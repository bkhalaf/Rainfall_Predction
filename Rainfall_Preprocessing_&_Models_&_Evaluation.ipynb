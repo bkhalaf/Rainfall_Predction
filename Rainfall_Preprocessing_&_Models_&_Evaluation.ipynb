{
  "nbformat": 4,
  "nbformat_minor": 0,
  "metadata": {
    "colab": {
      "name": "Rainfall_Preprocessing & Models & Evaluation.ipynb",
      "provenance": [],
      "collapsed_sections": []
    },
    "kernelspec": {
      "name": "python3",
      "display_name": "Python 3"
    },
    "language_info": {
      "name": "python"
    }
  },
  "cells": [
    {
      "cell_type": "markdown",
      "metadata": {
        "id": "lmrgOkbFvsXg"
      },
      "source": [
        "\n",
        "https://towardsdatascience.com/how-to-use-pairwise-correlation-for-robust-feature-selection-20a60ef7d10\n"
      ]
    },
    {
      "cell_type": "code",
      "metadata": {
        "id": "jwGi56U5e_vf"
      },
      "source": [
        "#command to mounte with Google drive \n",
        "#from google.colab import drive\n",
        "#drive.mount('/content/drive')"
      ],
      "execution_count": null,
      "outputs": []
    },
    {
      "cell_type": "code",
      "metadata": {
        "id": "6I_Ju538RHEx"
      },
      "source": [
        "#public librabries needed for \n",
        "\n",
        "import numpy as np\n",
        "import pandas as pd \n",
        "import pandas as pd\n",
        "import matplotlib.pyplot as plt\n",
        "import seaborn as sns\n",
        "import warnings\n",
        "warnings.filterwarnings(\"ignore\")\n",
        "\n",
        "#librarbies needed for download csv file \n",
        "\n",
        "import os\n",
        "for dirname, _, filenames in os.walk('/kaggle/input'):\n",
        "    for filename in filenames:\n",
        "        print(os.path.join(dirname, filename))\n",
        "import base64\n",
        "import pandas as pd\n",
        "from IPython.display import HTML\n",
        "\n",
        "#libraries needed for models we use below : \n",
        "\n",
        "from sklearn.model_selection import train_test_split\n",
        "from sklearn.linear_model import LogisticRegression\n",
        "from sklearn.tree import DecisionTreeClassifier\n",
        "from sklearn.ensemble import RandomForestClassifier\n",
        "from sklearn.linear_model import LogisticRegressionCV\n",
        "from sklearn.metrics import plot_roc_curve\n",
        "\n",
        "from sklearn.model_selection import train_test_split, RandomizedSearchCV, cross_val_score\n",
        "from sklearn.metrics import confusion_matrix, precision_score, recall_score, f1_score, roc_curve, auc\n",
        "\n",
        "from sklearn.model_selection import StratifiedShuffleSplit\n"
      ],
      "execution_count": null,
      "outputs": []
    },
    {
      "cell_type": "markdown",
      "metadata": {
        "id": "MZ-H0240GRFx"
      },
      "source": [
        "**Dataset with the following notes :**\n",
        "\n",
        "1.   All features (excluding date) will be considered \n",
        "3.   PCA feature and corrolation for reduction are not applied , not usefull\n"
      ]
    },
    {
      "cell_type": "code",
      "metadata": {
        "id": "y6Ig18wbs9ki"
      },
      "source": [
        "#command >> Data frame to get Data from Google Drive file\n",
        "data = pd.read_csv('/content/drive/MyDrive/Angham Research ML/weather_data_1.2.csv')"
      ],
      "execution_count": null,
      "outputs": []
    },
    {
      "cell_type": "code",
      "metadata": {
        "colab": {
          "base_uri": "https://localhost:8080/",
          "height": 220
        },
        "id": "nXHHJhZOtGtU",
        "outputId": "3988b3bb-9a57-4f22-cb96-02ae63015c59"
      },
      "source": [
        "#command to present data, check the data after connecting \n",
        "data.head()"
      ],
      "execution_count": null,
      "outputs": [
        {
          "output_type": "execute_result",
          "data": {
            "text/html": [
              "<div>\n",
              "<style scoped>\n",
              "    .dataframe tbody tr th:only-of-type {\n",
              "        vertical-align: middle;\n",
              "    }\n",
              "\n",
              "    .dataframe tbody tr th {\n",
              "        vertical-align: top;\n",
              "    }\n",
              "\n",
              "    .dataframe thead th {\n",
              "        text-align: right;\n",
              "    }\n",
              "</style>\n",
              "<table border=\"1\" class=\"dataframe\">\n",
              "  <thead>\n",
              "    <tr style=\"text-align: right;\">\n",
              "      <th></th>\n",
              "      <th>Date</th>\n",
              "      <th>Longitude</th>\n",
              "      <th>Latitude</th>\n",
              "      <th>Elevation</th>\n",
              "      <th>Max Temperature</th>\n",
              "      <th>Min Temperature</th>\n",
              "      <th>Precipitation</th>\n",
              "      <th>Wind</th>\n",
              "      <th>Relative Humidity</th>\n",
              "      <th>Solar</th>\n",
              "      <th>Rain_Today</th>\n",
              "      <th>Rain_Tomorrw</th>\n",
              "    </tr>\n",
              "  </thead>\n",
              "  <tbody>\n",
              "    <tr>\n",
              "      <th>0</th>\n",
              "      <td>1/1/1979</td>\n",
              "      <td>34.375</td>\n",
              "      <td>31.379</td>\n",
              "      <td>84</td>\n",
              "      <td>18.669</td>\n",
              "      <td>9.996</td>\n",
              "      <td>0.000000</td>\n",
              "      <td>2.122197</td>\n",
              "      <td>0.678293</td>\n",
              "      <td>12.328876</td>\n",
              "      <td>0</td>\n",
              "      <td>0</td>\n",
              "    </tr>\n",
              "    <tr>\n",
              "      <th>1</th>\n",
              "      <td>2/1/1979</td>\n",
              "      <td>34.375</td>\n",
              "      <td>31.379</td>\n",
              "      <td>84</td>\n",
              "      <td>20.666</td>\n",
              "      <td>11.138</td>\n",
              "      <td>0.000000</td>\n",
              "      <td>3.021780</td>\n",
              "      <td>0.489818</td>\n",
              "      <td>12.470288</td>\n",
              "      <td>0</td>\n",
              "      <td>0</td>\n",
              "    </tr>\n",
              "    <tr>\n",
              "      <th>2</th>\n",
              "      <td>3/1/1979</td>\n",
              "      <td>34.375</td>\n",
              "      <td>31.379</td>\n",
              "      <td>84</td>\n",
              "      <td>23.203</td>\n",
              "      <td>13.161</td>\n",
              "      <td>0.000000</td>\n",
              "      <td>4.171770</td>\n",
              "      <td>0.388241</td>\n",
              "      <td>12.481140</td>\n",
              "      <td>0</td>\n",
              "      <td>0</td>\n",
              "    </tr>\n",
              "    <tr>\n",
              "      <th>3</th>\n",
              "      <td>4/1/1979</td>\n",
              "      <td>34.375</td>\n",
              "      <td>31.379</td>\n",
              "      <td>84</td>\n",
              "      <td>15.420</td>\n",
              "      <td>11.750</td>\n",
              "      <td>0.436020</td>\n",
              "      <td>7.827861</td>\n",
              "      <td>0.624069</td>\n",
              "      <td>4.772364</td>\n",
              "      <td>0</td>\n",
              "      <td>0</td>\n",
              "    </tr>\n",
              "    <tr>\n",
              "      <th>4</th>\n",
              "      <td>5/1/1979</td>\n",
              "      <td>34.375</td>\n",
              "      <td>31.379</td>\n",
              "      <td>84</td>\n",
              "      <td>12.721</td>\n",
              "      <td>10.596</td>\n",
              "      <td>0.264358</td>\n",
              "      <td>3.416941</td>\n",
              "      <td>0.657091</td>\n",
              "      <td>4.979586</td>\n",
              "      <td>0</td>\n",
              "      <td>0</td>\n",
              "    </tr>\n",
              "  </tbody>\n",
              "</table>\n",
              "</div>"
            ],
            "text/plain": [
              "       Date  Longitude  Latitude  ...      Solar  Rain_Today  Rain_Tomorrw\n",
              "0  1/1/1979     34.375    31.379  ...  12.328876           0             0\n",
              "1  2/1/1979     34.375    31.379  ...  12.470288           0             0\n",
              "2  3/1/1979     34.375    31.379  ...  12.481140           0             0\n",
              "3  4/1/1979     34.375    31.379  ...   4.772364           0             0\n",
              "4  5/1/1979     34.375    31.379  ...   4.979586           0             0\n",
              "\n",
              "[5 rows x 12 columns]"
            ]
          },
          "metadata": {},
          "execution_count": 4
        }
      ]
    },
    {
      "cell_type": "code",
      "metadata": {
        "colab": {
          "base_uri": "https://localhost:8080/",
          "height": 332
        },
        "id": "s6hemaWgK7_i",
        "outputId": "f09c72ad-dc8a-457e-ec68-2b0d9141006d"
      },
      "source": [
        "data.describe()"
      ],
      "execution_count": null,
      "outputs": [
        {
          "output_type": "execute_result",
          "data": {
            "text/html": [
              "<div>\n",
              "<style scoped>\n",
              "    .dataframe tbody tr th:only-of-type {\n",
              "        vertical-align: middle;\n",
              "    }\n",
              "\n",
              "    .dataframe tbody tr th {\n",
              "        vertical-align: top;\n",
              "    }\n",
              "\n",
              "    .dataframe thead th {\n",
              "        text-align: right;\n",
              "    }\n",
              "</style>\n",
              "<table border=\"1\" class=\"dataframe\">\n",
              "  <thead>\n",
              "    <tr style=\"text-align: right;\">\n",
              "      <th></th>\n",
              "      <th>Longitude</th>\n",
              "      <th>Latitude</th>\n",
              "      <th>Elevation</th>\n",
              "      <th>Max Temperature</th>\n",
              "      <th>Min Temperature</th>\n",
              "      <th>Precipitation</th>\n",
              "      <th>Wind</th>\n",
              "      <th>Relative Humidity</th>\n",
              "      <th>Solar</th>\n",
              "      <th>Rain_Today</th>\n",
              "      <th>Rain_Tomorrw</th>\n",
              "    </tr>\n",
              "  </thead>\n",
              "  <tbody>\n",
              "    <tr>\n",
              "      <th>count</th>\n",
              "      <td>12987.000</td>\n",
              "      <td>1.298700e+04</td>\n",
              "      <td>12987.0</td>\n",
              "      <td>12987.000000</td>\n",
              "      <td>12987.000000</td>\n",
              "      <td>12987.000000</td>\n",
              "      <td>12987.000000</td>\n",
              "      <td>12987.000000</td>\n",
              "      <td>12987.000000</td>\n",
              "      <td>12987.000000</td>\n",
              "      <td>12987.000000</td>\n",
              "    </tr>\n",
              "    <tr>\n",
              "      <th>mean</th>\n",
              "      <td>34.375</td>\n",
              "      <td>3.137900e+01</td>\n",
              "      <td>84.0</td>\n",
              "      <td>24.957251</td>\n",
              "      <td>16.199102</td>\n",
              "      <td>0.684108</td>\n",
              "      <td>3.770305</td>\n",
              "      <td>0.663746</td>\n",
              "      <td>20.166373</td>\n",
              "      <td>0.145684</td>\n",
              "      <td>0.145684</td>\n",
              "    </tr>\n",
              "    <tr>\n",
              "      <th>std</th>\n",
              "      <td>0.000</td>\n",
              "      <td>6.970693e-12</td>\n",
              "      <td>0.0</td>\n",
              "      <td>5.862796</td>\n",
              "      <td>4.683097</td>\n",
              "      <td>2.589019</td>\n",
              "      <td>1.223316</td>\n",
              "      <td>0.104707</td>\n",
              "      <td>7.419398</td>\n",
              "      <td>0.352803</td>\n",
              "      <td>0.352803</td>\n",
              "    </tr>\n",
              "    <tr>\n",
              "      <th>min</th>\n",
              "      <td>34.375</td>\n",
              "      <td>3.137900e+01</td>\n",
              "      <td>84.0</td>\n",
              "      <td>7.433000</td>\n",
              "      <td>3.789000</td>\n",
              "      <td>0.000000</td>\n",
              "      <td>0.748786</td>\n",
              "      <td>0.149283</td>\n",
              "      <td>0.000000</td>\n",
              "      <td>0.000000</td>\n",
              "      <td>0.000000</td>\n",
              "    </tr>\n",
              "    <tr>\n",
              "      <th>25%</th>\n",
              "      <td>34.375</td>\n",
              "      <td>3.137900e+01</td>\n",
              "      <td>84.0</td>\n",
              "      <td>19.880500</td>\n",
              "      <td>12.151500</td>\n",
              "      <td>0.000000</td>\n",
              "      <td>3.084272</td>\n",
              "      <td>0.624916</td>\n",
              "      <td>13.779031</td>\n",
              "      <td>0.000000</td>\n",
              "      <td>0.000000</td>\n",
              "    </tr>\n",
              "    <tr>\n",
              "      <th>50%</th>\n",
              "      <td>34.375</td>\n",
              "      <td>3.137900e+01</td>\n",
              "      <td>84.0</td>\n",
              "      <td>25.822000</td>\n",
              "      <td>16.367000</td>\n",
              "      <td>0.000000</td>\n",
              "      <td>3.550331</td>\n",
              "      <td>0.690719</td>\n",
              "      <td>21.191682</td>\n",
              "      <td>0.000000</td>\n",
              "      <td>0.000000</td>\n",
              "    </tr>\n",
              "    <tr>\n",
              "      <th>75%</th>\n",
              "      <td>34.375</td>\n",
              "      <td>3.137900e+01</td>\n",
              "      <td>84.0</td>\n",
              "      <td>29.960000</td>\n",
              "      <td>20.474500</td>\n",
              "      <td>0.051498</td>\n",
              "      <td>4.102569</td>\n",
              "      <td>0.731745</td>\n",
              "      <td>27.201708</td>\n",
              "      <td>0.000000</td>\n",
              "      <td>0.000000</td>\n",
              "    </tr>\n",
              "    <tr>\n",
              "      <th>max</th>\n",
              "      <td>34.375</td>\n",
              "      <td>3.137900e+01</td>\n",
              "      <td>84.0</td>\n",
              "      <td>41.579000</td>\n",
              "      <td>27.614000</td>\n",
              "      <td>56.278386</td>\n",
              "      <td>12.890847</td>\n",
              "      <td>0.922264</td>\n",
              "      <td>30.404480</td>\n",
              "      <td>1.000000</td>\n",
              "      <td>1.000000</td>\n",
              "    </tr>\n",
              "  </tbody>\n",
              "</table>\n",
              "</div>"
            ],
            "text/plain": [
              "       Longitude      Latitude  ...    Rain_Today  Rain_Tomorrw\n",
              "count  12987.000  1.298700e+04  ...  12987.000000  12987.000000\n",
              "mean      34.375  3.137900e+01  ...      0.145684      0.145684\n",
              "std        0.000  6.970693e-12  ...      0.352803      0.352803\n",
              "min       34.375  3.137900e+01  ...      0.000000      0.000000\n",
              "25%       34.375  3.137900e+01  ...      0.000000      0.000000\n",
              "50%       34.375  3.137900e+01  ...      0.000000      0.000000\n",
              "75%       34.375  3.137900e+01  ...      0.000000      0.000000\n",
              "max       34.375  3.137900e+01  ...      1.000000      1.000000\n",
              "\n",
              "[8 rows x 11 columns]"
            ]
          },
          "metadata": {},
          "execution_count": 32
        }
      ]
    },
    {
      "cell_type": "code",
      "metadata": {
        "id": "kd9d1zx2tRPx",
        "colab": {
          "base_uri": "https://localhost:8080/",
          "height": 203
        },
        "outputId": "12d933af-acf1-4ac8-dfef-4f2b434d32db"
      },
      "source": [
        "#exclude columes are not usefull, constant values , date\n",
        "data_1 = data.loc[:, ~data.columns.isin(['Date','Longitude', 'Latitude','Elevation'])]\n",
        "data_1.head()"
      ],
      "execution_count": null,
      "outputs": [
        {
          "output_type": "execute_result",
          "data": {
            "text/html": [
              "<div>\n",
              "<style scoped>\n",
              "    .dataframe tbody tr th:only-of-type {\n",
              "        vertical-align: middle;\n",
              "    }\n",
              "\n",
              "    .dataframe tbody tr th {\n",
              "        vertical-align: top;\n",
              "    }\n",
              "\n",
              "    .dataframe thead th {\n",
              "        text-align: right;\n",
              "    }\n",
              "</style>\n",
              "<table border=\"1\" class=\"dataframe\">\n",
              "  <thead>\n",
              "    <tr style=\"text-align: right;\">\n",
              "      <th></th>\n",
              "      <th>Max Temperature</th>\n",
              "      <th>Min Temperature</th>\n",
              "      <th>Precipitation</th>\n",
              "      <th>Wind</th>\n",
              "      <th>Relative Humidity</th>\n",
              "      <th>Solar</th>\n",
              "      <th>Rain_Today</th>\n",
              "      <th>Rain_Tomorrw</th>\n",
              "    </tr>\n",
              "  </thead>\n",
              "  <tbody>\n",
              "    <tr>\n",
              "      <th>0</th>\n",
              "      <td>18.669</td>\n",
              "      <td>9.996</td>\n",
              "      <td>0.000000</td>\n",
              "      <td>2.122197</td>\n",
              "      <td>0.678293</td>\n",
              "      <td>12.328876</td>\n",
              "      <td>0</td>\n",
              "      <td>0</td>\n",
              "    </tr>\n",
              "    <tr>\n",
              "      <th>1</th>\n",
              "      <td>20.666</td>\n",
              "      <td>11.138</td>\n",
              "      <td>0.000000</td>\n",
              "      <td>3.021780</td>\n",
              "      <td>0.489818</td>\n",
              "      <td>12.470288</td>\n",
              "      <td>0</td>\n",
              "      <td>0</td>\n",
              "    </tr>\n",
              "    <tr>\n",
              "      <th>2</th>\n",
              "      <td>23.203</td>\n",
              "      <td>13.161</td>\n",
              "      <td>0.000000</td>\n",
              "      <td>4.171770</td>\n",
              "      <td>0.388241</td>\n",
              "      <td>12.481140</td>\n",
              "      <td>0</td>\n",
              "      <td>0</td>\n",
              "    </tr>\n",
              "    <tr>\n",
              "      <th>3</th>\n",
              "      <td>15.420</td>\n",
              "      <td>11.750</td>\n",
              "      <td>0.436020</td>\n",
              "      <td>7.827861</td>\n",
              "      <td>0.624069</td>\n",
              "      <td>4.772364</td>\n",
              "      <td>0</td>\n",
              "      <td>0</td>\n",
              "    </tr>\n",
              "    <tr>\n",
              "      <th>4</th>\n",
              "      <td>12.721</td>\n",
              "      <td>10.596</td>\n",
              "      <td>0.264358</td>\n",
              "      <td>3.416941</td>\n",
              "      <td>0.657091</td>\n",
              "      <td>4.979586</td>\n",
              "      <td>0</td>\n",
              "      <td>0</td>\n",
              "    </tr>\n",
              "  </tbody>\n",
              "</table>\n",
              "</div>"
            ],
            "text/plain": [
              "   Max Temperature  Min Temperature  ...  Rain_Today  Rain_Tomorrw\n",
              "0           18.669            9.996  ...           0             0\n",
              "1           20.666           11.138  ...           0             0\n",
              "2           23.203           13.161  ...           0             0\n",
              "3           15.420           11.750  ...           0             0\n",
              "4           12.721           10.596  ...           0             0\n",
              "\n",
              "[5 rows x 8 columns]"
            ]
          },
          "metadata": {},
          "execution_count": 5
        }
      ]
    },
    {
      "cell_type": "code",
      "metadata": {
        "id": "esc8UNHd91bR"
      },
      "source": [
        "#scaling and standrization , normlization "
      ],
      "execution_count": null,
      "outputs": []
    },
    {
      "cell_type": "code",
      "metadata": {
        "id": "4DEX4UMytjgT"
      },
      "source": [
        "#Divide the features and traget datasets\n",
        "cols = ['Max Temperature',\t'Min Temperature',\t'Precipitation',\t'Wind', 'Relative Humidity',\t'Solar',\t'Rain_Today']\n",
        "X = data_1[cols]\n",
        "y = data_1['Rain_Tomorrw']"
      ],
      "execution_count": null,
      "outputs": []
    },
    {
      "cell_type": "code",
      "metadata": {
        "id": "M6620rtuuEhs"
      },
      "source": [
        "#divide the dataset to train & test groups by 80%,20% respectively \n",
        "X_train, X_test, y_train, y_test = train_test_split(X, y,test_size=0.2, random_state=0)\n",
        "\n",
        "# we have 4 subsets, train dataset has two parts (x,y)\n",
        "# test dataset has two parts as well(x,y)"
      ],
      "execution_count": null,
      "outputs": []
    },
    {
      "cell_type": "code",
      "metadata": {
        "id": "61cx8ciIuHbI"
      },
      "source": [
        "#invoke the libraries of our ML models \n",
        "lr_clf = LogisticRegression()\n",
        "dt = DecisionTreeClassifier()\n",
        "rf_clf = RandomForestClassifier()\n",
        "\n",
        "#In contrast to machine learning, fitting means training. \n",
        "#There is a fit function in ML, that is used for training of model using data examples. \n",
        "#Fit function adjusts weights according to data values so that better accuracy can be achieved.\n",
        "\n",
        "#After training, the model can be used for predictions, using .predict() method call. \n",
        "\n",
        "#The below is just for building the models\n",
        "lr_clf.fit(X_train, y_train);\n",
        "dt.fit(X_train, y_train);\n",
        "rf_clf.fit(X_train, y_train);"
      ],
      "execution_count": null,
      "outputs": []
    },
    {
      "cell_type": "markdown",
      "metadata": {
        "id": "ikjDjFGJUH5H"
      },
      "source": [
        "**Evaluation and Metrics**"
      ]
    },
    {
      "cell_type": "code",
      "metadata": {
        "colab": {
          "base_uri": "https://localhost:8080/",
          "height": 279
        },
        "id": "gzm5QnghwS1H",
        "outputId": "0fed9a45-2117-4215-c76f-ec9afabeaabf"
      },
      "source": [
        "#plot roc curve to show AUC for each model\n",
        "#that means, take test data and check AUC vales then draw it \n",
        "\n",
        "disp = plot_roc_curve(lr_clf, X_test, y_test)\n",
        "plot_roc_curve(dt, X_test, y_test, ax=disp.ax_);\n",
        "plot_roc_curve(rf_clf, X_test, y_test, ax=disp.ax_);"
      ],
      "execution_count": null,
      "outputs": [
        {
          "output_type": "display_data",
          "data": {
            "image/png": "[encoded data removed]",
            "text/plain": [
              "<Figure size 432x288 with 1 Axes>"
            ]
          },
          "metadata": {
            "needs_background": "light"
          }
        }
      ]
    },
    {
      "cell_type": "code",
      "metadata": {
        "colab": {
          "base_uri": "https://localhost:8080/"
        },
        "id": "hrEv9jGB_VHo",
        "outputId": "ba235cb5-6c20-41dd-a117-c7410bb84992"
      },
      "source": [
        "#This code for randomforst clssifier ########### cross validation  ########### \n",
        "\n",
        "#hyperparameters for CV\n",
        "params = {\n",
        "    'n_estimators': range(10, 300, 30),\n",
        "    'max_depth': range(1, 10, 2),\n",
        "    'min_samples_leaf': range(1, 30, 2),\n",
        "    'min_samples_split': range(2, 50, 2)\n",
        "}\n",
        "\n",
        "#core code for CV\n",
        "search = RandomizedSearchCV(rf_clf, params, cv=5, n_jobs=-1, random_state=42)\n",
        "search.fit(X_train, y_train)\n",
        "\n",
        "#print the best paramters after CV\n",
        "print(search.best_params_)\n",
        "\n",
        "#call the model, best_rf after CV\n",
        "best_rf = search.best_estimator_\n",
        "\n",
        "#To predict the values, use x_test by best_rf model, also \n",
        "#predict_proba gives you the probabilities for the target (0 and 1 in your case) in array form.  \n",
        "y_pred_rf = best_rf.predict(X_test)\n",
        "y_predicted_prob_rf = best_rf.predict_proba(X_test)"
      ],
      "execution_count": null,
      "outputs": [
        {
          "output_type": "stream",
          "name": "stdout",
          "text": [
            "{'n_estimators': 130, 'min_samples_split': 42, 'min_samples_leaf': 9, 'max_depth': 7}\n"
          ]
        }
      ]
    },
    {
      "cell_type": "code",
      "metadata": {
        "colab": {
          "base_uri": "https://localhost:8080/",
          "height": 110
        },
        "id": "3zc7ywWuICTN",
        "outputId": "5c27aaae-a698-4092-ced3-6b767433ad65"
      },
      "source": [
        "#This code is for RandomForestClassifier model metrics \n",
        "\n",
        "fpr, tpr, thresholds = roc_curve(y_test, y_predicted_prob_rf[:,1])\n",
        "roc_auc= auc(fpr, tpr)\n",
        "\n",
        "rf_scores = pd.DataFrame({\n",
        "    \"Model\": \"Random forest\",\n",
        "    \"precision_score\": [precision_score(y_test, y_pred_rf)],\n",
        "    \"recall_score\": [recall_score(y_test, y_pred_rf)],\n",
        "    \"accuracy\": [best_rf.score(X_test, y_test)],\n",
        "    \"mean_cross_val_score\": [cross_val_score(best_rf, X_train, y_train, cv=5).mean()],\n",
        "    \"roc_auc\": [roc_auc],\n",
        "    \"f1_score\":[f1_score(y_test, y_pred_rf, average='weighted')]   #check the last input:zero_division \n",
        "})\n",
        "\n",
        "rf_scores.set_index(rf_scores.Model).drop(columns='Model')"
      ],
      "execution_count": null,
      "outputs": [
        {
          "output_type": "execute_result",
          "data": {
            "text/html": [
              "<div>\n",
              "<style scoped>\n",
              "    .dataframe tbody tr th:only-of-type {\n",
              "        vertical-align: middle;\n",
              "    }\n",
              "\n",
              "    .dataframe tbody tr th {\n",
              "        vertical-align: top;\n",
              "    }\n",
              "\n",
              "    .dataframe thead th {\n",
              "        text-align: right;\n",
              "    }\n",
              "</style>\n",
              "<table border=\"1\" class=\"dataframe\">\n",
              "  <thead>\n",
              "    <tr style=\"text-align: right;\">\n",
              "      <th></th>\n",
              "      <th>precision_score</th>\n",
              "      <th>recall_score</th>\n",
              "      <th>accuracy</th>\n",
              "      <th>mean_cross_val_score</th>\n",
              "      <th>roc_auc</th>\n",
              "      <th>f1_score</th>\n",
              "    </tr>\n",
              "    <tr>\n",
              "      <th>Model</th>\n",
              "      <th></th>\n",
              "      <th></th>\n",
              "      <th></th>\n",
              "      <th></th>\n",
              "      <th></th>\n",
              "      <th></th>\n",
              "    </tr>\n",
              "  </thead>\n",
              "  <tbody>\n",
              "    <tr>\n",
              "      <th>Random forest</th>\n",
              "      <td>0.638554</td>\n",
              "      <td>0.442897</td>\n",
              "      <td>0.888376</td>\n",
              "      <td>0.879681</td>\n",
              "      <td>0.893195</td>\n",
              "      <td>0.879616</td>\n",
              "    </tr>\n",
              "  </tbody>\n",
              "</table>\n",
              "</div>"
            ],
            "text/plain": [
              "               precision_score  recall_score  ...   roc_auc  f1_score\n",
              "Model                                         ...                    \n",
              "Random forest         0.638554      0.442897  ...  0.893195  0.879616\n",
              "\n",
              "[1 rows x 6 columns]"
            ]
          },
          "metadata": {},
          "execution_count": 22
        }
      ]
    },
    {
      "cell_type": "code",
      "metadata": {
        "id": "pN7xUgBuG-t_"
      },
      "source": [
        "#Feature importance evaluation , based on/after Cross validation :\n",
        "\n",
        "feature_importances_df = pd.DataFrame({\n",
        "    'features':list(X_train.columns), \n",
        "    'Feature_Importances': best_rf.feature_importances_},index=X_train.columns)\\\n",
        "    .sort_values(by='Feature_Importances')"
      ],
      "execution_count": null,
      "outputs": []
    },
    {
      "cell_type": "code",
      "metadata": {
        "colab": {
          "base_uri": "https://localhost:8080/",
          "height": 483
        },
        "id": "Cl8E2FigH0Rl",
        "outputId": "ac445cd6-a6fe-4429-cba0-5c4b577b0089"
      },
      "source": [
        "#chart for the importnace,,,,,should enhance it with colores etc\n",
        "feature_importances_df.tail(10).plot(kind='barh', figsize=(12, 8));"
      ],
      "execution_count": null,
      "outputs": [
        {
          "output_type": "display_data",
          "data": {
            "image/png": "[encoded data removed]",
            "text/plain": [
              "<Figure size 864x576 with 1 Axes>"
            ]
          },
          "metadata": {
            "needs_background": "light"
          }
        }
      ]
    },
    {
      "cell_type": "code",
      "metadata": {
        "id": "smLNaXftY6AJ"
      },
      "source": [
        "#predication for Logistc regrtiions model\n",
        "y_pred_lr = lr_clf.predict(X_test)\n",
        "y_predicted_prob_lr = lr_clf.predict_proba(X_test)"
      ],
      "execution_count": null,
      "outputs": []
    },
    {
      "cell_type": "code",
      "metadata": {
        "colab": {
          "base_uri": "https://localhost:8080/",
          "height": 80
        },
        "id": "UPrDtMFLScNR",
        "outputId": "3904d403-93c5-4ccb-e0d5-b7ce3a50dc36"
      },
      "source": [
        "#get scores and metrics without Cross validation & estimators \n",
        "\n",
        "fpr, tpr, thresholds = roc_curve(y_test, y_predicted_prob_lr[:,1])\n",
        "roc_auc= auc(fpr, tpr)\n",
        "\n",
        "lr_scores = pd.DataFrame({\n",
        "    \"Model\": \"Logistic Regrision\",\n",
        "    \"precision_score\": [precision_score(y_test, y_pred_lr)],\n",
        "    \"recall_score\": [recall_score(y_test, y_pred_lr)],\n",
        "    \"accuracy\": [best_rf.score(X_test, y_test)],\n",
        "    \"mean_cross_val_score\": [cross_val_score(lr_clf, X_train, y_train, cv=5).mean()],\n",
        "    \"roc_auc\": [roc_auc],\n",
        "    \"f1_score\":[f1_score(y_test, y_pred_lr, average='weighted')]   #check the last input:zero_division \n",
        "})\n",
        "\n",
        "lr_scores.head()\n"
      ],
      "execution_count": null,
      "outputs": [
        {
          "output_type": "execute_result",
          "data": {
            "text/html": [
              "<div>\n",
              "<style scoped>\n",
              "    .dataframe tbody tr th:only-of-type {\n",
              "        vertical-align: middle;\n",
              "    }\n",
              "\n",
              "    .dataframe tbody tr th {\n",
              "        vertical-align: top;\n",
              "    }\n",
              "\n",
              "    .dataframe thead th {\n",
              "        text-align: right;\n",
              "    }\n",
              "</style>\n",
              "<table border=\"1\" class=\"dataframe\">\n",
              "  <thead>\n",
              "    <tr style=\"text-align: right;\">\n",
              "      <th></th>\n",
              "      <th>Model</th>\n",
              "      <th>precision_score</th>\n",
              "      <th>recall_score</th>\n",
              "      <th>accuracy</th>\n",
              "      <th>mean_cross_val_score</th>\n",
              "      <th>roc_auc</th>\n",
              "      <th>f1_score</th>\n",
              "    </tr>\n",
              "  </thead>\n",
              "  <tbody>\n",
              "    <tr>\n",
              "      <th>0</th>\n",
              "      <td>Logistic Regrision</td>\n",
              "      <td>0.666667</td>\n",
              "      <td>0.423398</td>\n",
              "      <td>0.888376</td>\n",
              "      <td>0.879874</td>\n",
              "      <td>0.885969</td>\n",
              "      <td>0.880463</td>\n",
              "    </tr>\n",
              "  </tbody>\n",
              "</table>\n",
              "</div>"
            ],
            "text/plain": [
              "                Model  precision_score  ...   roc_auc  f1_score\n",
              "0  Logistic Regrision         0.666667  ...  0.885969  0.880463\n",
              "\n",
              "[1 rows x 7 columns]"
            ]
          },
          "metadata": {},
          "execution_count": 55
        }
      ]
    },
    {
      "cell_type": "code",
      "metadata": {
        "id": "Zo5WHwM3hVkX"
      },
      "source": [
        "#predication for decision tree model\n",
        "y_pred_dt = dt.predict(X_test)\n",
        "y_predicted_prob_dt = dt.predict_proba(X_test)"
      ],
      "execution_count": null,
      "outputs": []
    },
    {
      "cell_type": "code",
      "metadata": {
        "colab": {
          "base_uri": "https://localhost:8080/",
          "height": 80
        },
        "id": "yqOdWrbhhwXe",
        "outputId": "015d086a-86cc-4b51-8d52-ca422eb46e1d"
      },
      "source": [
        "#get scores and metrics without Cross validation & estimators \n",
        "\n",
        "fpr, tpr, thresholds = roc_curve(y_test, y_predicted_prob_dt[:,1])\n",
        "roc_auc= auc(fpr, tpr)\n",
        "\n",
        "dt_scores = pd.DataFrame({\n",
        "    \"Model\": \"Decision Tree\",\n",
        "    \"precision_score\": [precision_score(y_test, y_pred_dt)],\n",
        "    \"recall_score\": [recall_score(y_test, y_pred_dt)],\n",
        "    \"accuracy\": [best_rf.score(X_test, y_test)],\n",
        "    \"mean_cross_val_score\": [cross_val_score(dt , X_train, y_train, cv=5).mean()],\n",
        "    \"roc_auc\": [roc_auc],\n",
        "    \"f1_score\":[f1_score(y_test, y_pred_dt, average='weighted')]   #check the last input:zero_division \n",
        "})\n",
        "\n",
        "dt_scores.head()\n"
      ],
      "execution_count": null,
      "outputs": [
        {
          "output_type": "execute_result",
          "data": {
            "text/html": [
              "<div>\n",
              "<style scoped>\n",
              "    .dataframe tbody tr th:only-of-type {\n",
              "        vertical-align: middle;\n",
              "    }\n",
              "\n",
              "    .dataframe tbody tr th {\n",
              "        vertical-align: top;\n",
              "    }\n",
              "\n",
              "    .dataframe thead th {\n",
              "        text-align: right;\n",
              "    }\n",
              "</style>\n",
              "<table border=\"1\" class=\"dataframe\">\n",
              "  <thead>\n",
              "    <tr style=\"text-align: right;\">\n",
              "      <th></th>\n",
              "      <th>Model</th>\n",
              "      <th>precision_score</th>\n",
              "      <th>recall_score</th>\n",
              "      <th>accuracy</th>\n",
              "      <th>mean_cross_val_score</th>\n",
              "      <th>roc_auc</th>\n",
              "      <th>f1_score</th>\n",
              "    </tr>\n",
              "  </thead>\n",
              "  <tbody>\n",
              "    <tr>\n",
              "      <th>0</th>\n",
              "      <td>Decision Tree</td>\n",
              "      <td>0.424821</td>\n",
              "      <td>0.495822</td>\n",
              "      <td>0.888376</td>\n",
              "      <td>0.835307</td>\n",
              "      <td>0.694092</td>\n",
              "      <td>0.842728</td>\n",
              "    </tr>\n",
              "  </tbody>\n",
              "</table>\n",
              "</div>"
            ],
            "text/plain": [
              "           Model  precision_score  ...   roc_auc  f1_score\n",
              "0  Decision Tree         0.424821  ...  0.694092  0.842728\n",
              "\n",
              "[1 rows x 7 columns]"
            ]
          },
          "metadata": {},
          "execution_count": 57
        }
      ]
    },
    {
      "cell_type": "markdown",
      "metadata": {
        "id": "9v7L1_X4x870"
      },
      "source": [
        "**The above Model results are without** : \n",
        "\n",
        "1-Feature reduction wither in corrolation or using PCA methode \n",
        "\n",
        "2-the Result without Date feature\n",
        "\n",
        "3-The results without standrization\n",
        "\n",
        "4-The results for three models:\n",
        "\n",
        "lr = LogisticRegression()\n",
        ",dt = DecisionTreeClassifier()\n",
        ",rf = RandomForestClassifier()\n",
        "\n"
      ]
    },
    {
      "cell_type": "code",
      "metadata": {
        "colab": {
          "base_uri": "https://localhost:8080/"
        },
        "id": "rm3MFEc4HZ9o",
        "outputId": "6011c931-9ca0-4c45-adcc-e3d7716145b3"
      },
      "source": [
        "dff['Rain_Tomorrw'].value_counts()"
      ],
      "execution_count": null,
      "outputs": [
        {
          "output_type": "execute_result",
          "data": {
            "text/plain": [
              "0    11095\n",
              "1     1892\n",
              "Name: Rain_Tomorrw, dtype: int64"
            ]
          },
          "metadata": {},
          "execution_count": 72
        }
      ]
    },
    {
      "cell_type": "markdown",
      "metadata": {
        "id": "0xCImkdjEgKr"
      },
      "source": [
        "Clarficiation for cross validation : k-folds and Random split \n",
        "https://machinelearningmastery.com/k-fold-cross-validation/\n",
        "\n",
        "\n",
        "**Data is normally imbalanace**[0 : 11095(85.5% of total samples), 1 : 1892(14.5% of total sample)], basiclly we should make oversampling/undersampling methods to make it like 50% / 50% and kill this problem. \n",
        "\n",
        "We have maily two options :\n",
        "1.   **Use** undersampling and over sampling methods, then use cross validation,k-folds to estimite the ML model, that approuch beacuse k-folds say 10-K , if it take 9 folds from negative and 1 from positive, that will choose positive totally. and will ignore nigatve sample. \n",
        "but with oversamplung /undersampling that will be effisiante if sample 50 % for each one, I mean rain tomorrw. \n",
        "\n",
        "-In general that will not add more accurcy to the model. \n",
        "\n",
        "2.   **If we use normal split of dataset**, say 30% to 70% , let say 100 sample, it will take 30 sample negative and 70 postive and will not ignore negative samples. \n",
        "of course without oversampling/undersampling methods and K-folds cross validation. it usefull in applied ML. \n"
      ]
    }
  ]
}